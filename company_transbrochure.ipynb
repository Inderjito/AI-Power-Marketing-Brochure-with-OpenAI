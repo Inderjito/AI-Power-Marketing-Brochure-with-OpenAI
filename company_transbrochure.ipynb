{
 "cells": [
  {
   "cell_type": "markdown",
   "id": "88b251c9-f04f-4c77-ad1f-9e521764ed7c",
   "metadata": {},
   "source": [
    "# Create an AI-Powered Marketing Brochure with OpenAI – Featuring Multilingual Translation Capabilities\n"
   ]
  },
  {
   "cell_type": "code",
   "execution_count": 50,
   "id": "7fe5f0e0-5c06-4b2f-8b7a-0ef627b891b1",
   "metadata": {},
   "outputs": [],
   "source": [
    "import os\n",
    "import requests\n",
    "import json\n",
    "from typing import List\n",
    "from dotenv import load_dotenv\n",
    "from bs4 import BeautifulSoup\n",
    "from IPython.display import Markdown, display, update_display\n",
    "from openai import OpenAI"
   ]
  },
  {
   "cell_type": "code",
   "execution_count": 31,
   "id": "20f59900-dfc9-4884-9c56-ff9891822573",
   "metadata": {},
   "outputs": [],
   "source": [
    "from IPython.display import Markdown, display"
   ]
  },
  {
   "cell_type": "code",
   "execution_count": 3,
   "id": "0c67fe69-91a8-4776-9578-a223dc4f76e1",
   "metadata": {},
   "outputs": [
    {
     "name": "stdout",
     "output_type": "stream",
     "text": [
      "API key looks good so far\n"
     ]
    }
   ],
   "source": [
    "# Initialize and constants\n",
    "\n",
    "load_dotenv(override=True)\n",
    "api_key = os.getenv('OPENAI_API_KEY')\n",
    "\n",
    "if api_key and api_key.startswith('sk-proj-') and len(api_key)>10:\n",
    "    print(\"API key looks good so far\")\n",
    "else:\n",
    "    print(\"There might be a problem with your API key? Please visit the troubleshooting notebook!\")\n",
    "    \n",
    "MODEL = 'gpt-4o-mini'\n",
    "openai = OpenAI()"
   ]
  },
  {
   "cell_type": "markdown",
   "id": "d29d05c6-02ba-4bbf-b7ac-66aee42c3e23",
   "metadata": {},
   "source": [
    "# Setting up class to extract URl"
   ]
  },
  {
   "cell_type": "code",
   "execution_count": 4,
   "id": "f85fa554-7ff1-4bfb-a45b-59ada94e354d",
   "metadata": {},
   "outputs": [],
   "source": [
    "# A class to represent a Webpage\n",
    "\n",
    "# Some websites need you to use proper headers when fetching them:\n",
    "headers = {\n",
    " \"User-Agent\": \"Mozilla/5.0 (Windows NT 10.0; Win64; x64) AppleWebKit/537.36 (KHTML, like Gecko) Chrome/117.0.0.0 Safari/537.36\"\n",
    "}\n",
    "\n",
    "class Website:\n",
    "    \"\"\"\n",
    "    A utility class to represent a Website that we have scraped, now with links\n",
    "    \"\"\"\n",
    "\n",
    "    def __init__(self, url):\n",
    "        self.url = url\n",
    "        response = requests.get(url, headers=headers)\n",
    "        self.body = response.content\n",
    "        soup = BeautifulSoup(self.body, 'html.parser')\n",
    "        self.title = soup.title.string if soup.title else \"No title found\"\n",
    "        if soup.body:\n",
    "            for irrelevant in soup.body([\"script\", \"style\", \"img\", \"input\"]):\n",
    "                irrelevant.decompose()\n",
    "            self.text = soup.body.get_text(separator=\"\\n\", strip=True)\n",
    "        else:\n",
    "            self.text = \"\"\n",
    "        links = [link.get('href') for link in soup.find_all('a')]\n",
    "        self.links = [link for link in links if link]\n",
    "\n",
    "    def get_contents(self):\n",
    "        return f\"Webpage Title:\\n{self.title}\\nWebpage Contents:\\n{self.text}\\n\\n\""
   ]
  },
  {
   "cell_type": "markdown",
   "id": "73532565-a7f4-4ea9-a296-e69f6417f5a7",
   "metadata": {},
   "source": [
    "# Getting all the url from a single website ( for use case I used Nebula)"
   ]
  },
  {
   "cell_type": "code",
   "execution_count": 5,
   "id": "20816cdf-9a0d-4466-bcce-bcb2b06f84c1",
   "metadata": {},
   "outputs": [
    {
     "data": {
      "text/plain": [
       "['/',\n",
       " '#features',\n",
       " '#benefits',\n",
       " '#about',\n",
       " 'https://nebula.io/insights/',\n",
       " 'https://app.nebula.io/',\n",
       " 'https://calendar.app.google/uvBKvWmY3yZHdgSC8',\n",
       " '/',\n",
       " '#features',\n",
       " '#benefits',\n",
       " '#about',\n",
       " 'https://nebula.io/insights/',\n",
       " 'https://app.nebula.io/',\n",
       " 'https://calendar.app.google/uvBKvWmY3yZHdgSC8',\n",
       " 'https://calendar.app.google/uvBKvWmY3yZHdgSC8',\n",
       " 'https://app.nebula.io/register',\n",
       " 'https://calendar.app.google/uvBKvWmY3yZHdgSC8',\n",
       " 'https://calendar.app.google/uvBKvWmY3yZHdgSC8',\n",
       " 'https://calendar.app.google/uvBKvWmY3yZHdgSC8',\n",
       " 'https://calendar.app.google/uvBKvWmY3yZHdgSC8',\n",
       " 'https://www.linkedin.com/in/gqrgm/',\n",
       " 'https://www.linkedin.com/in/eddonner/',\n",
       " 'https://www.linkedin.com/in/jonkrohn/',\n",
       " 'https://www.linkedin.com/in/saascfo/',\n",
       " 'https://www.linkedin.com/in/mike-e-424a1819/',\n",
       " 'https://www.linkedin.com/in/gqrgm/',\n",
       " 'https://www.linkedin.com/in/eddonner/',\n",
       " 'https://www.linkedin.com/in/jonkrohn/',\n",
       " 'https://www.linkedin.com/in/saascfo/',\n",
       " 'https://www.linkedin.com/in/mike-e-424a1819/',\n",
       " 'https://nebula.io/',\n",
       " '#features',\n",
       " '#benefits',\n",
       " '#about',\n",
       " 'https://nebula.io/insights/',\n",
       " 'https://app.nebula.io/',\n",
       " 'https://calendar.app.google/uvBKvWmY3yZHdgSC8',\n",
       " 'https://nebula.io/terms/',\n",
       " 'https://nebula.io/privacy-statement/',\n",
       " 'https://developers.google.com/terms/api-services-user-data-policy',\n",
       " 'https://www.linkedin.com/company/nebula-io']"
      ]
     },
     "execution_count": 5,
     "metadata": {},
     "output_type": "execute_result"
    }
   ],
   "source": [
    "nebula = Website(\"https://nebula.io/\")\n",
    "nebula.links"
   ]
  },
  {
   "cell_type": "markdown",
   "id": "3e529728-642b-4ab3-8d31-427e89f49707",
   "metadata": {},
   "source": [
    "# Setting up prompt and tagging links"
   ]
  },
  {
   "cell_type": "code",
   "execution_count": 6,
   "id": "cbbd553d-e1c2-43d5-83e0-d0ec6ae50c9e",
   "metadata": {},
   "outputs": [],
   "source": [
    "link_system_prompt = \"You are provided with a list of links found on a webpage. \\\n",
    "You are able to decide which of the links would be most relevant to include in a brochure about the company, \\\n",
    "such as links to an About us, or a Company page, features, benefits, insights, request demo or Careers/Jobs pages.\\n\"\n",
    "link_system_prompt += \"You should respond in JSON as in this example:\"\n",
    "link_system_prompt += \"\"\"\n",
    "{\n",
    "    \"links\": [\n",
    "        {\"type\": \"about page\", \"url\": \"https://full.url/goes/here/about\"},\n",
    "        {\"type\": \"careers page\": \"url\": \"https://another.full.url/careers\"},\n",
    "        {\"type\": \"features page\": \"url\": \"https://another.full.url/features\"},\n",
    "        {\"type\": \"benefits page\": \"url\": \"https://another.full.url/benefits\"},\n",
    "        {\"type\": \"insights page\": \"url\": \"https://another.full.url/insights\"},\n",
    "        {\"type\": \"request demo page\": \"url\": \"https://another.full.url/request_demo\"}\n",
    "    ]\n",
    "}\n",
    "\"\"\""
   ]
  },
  {
   "cell_type": "code",
   "execution_count": 7,
   "id": "4c0ded36-8bef-45ee-9426-ae12c42d8b91",
   "metadata": {},
   "outputs": [
    {
     "name": "stdout",
     "output_type": "stream",
     "text": [
      "You are provided with a list of links found on a webpage. You are able to decide which of the links would be most relevant to include in a brochure about the company, such as links to an About us, or a Company page, features, benefits, insights, request demo or Careers/Jobs pages.\n",
      "You should respond in JSON as in this example:\n",
      "{\n",
      "    \"links\": [\n",
      "        {\"type\": \"about page\", \"url\": \"https://full.url/goes/here/about\"},\n",
      "        {\"type\": \"careers page\": \"url\": \"https://another.full.url/careers\"},\n",
      "        {\"type\": \"features page\": \"url\": \"https://another.full.url/features\"},\n",
      "        {\"type\": \"benefits page\": \"url\": \"https://another.full.url/benefits\"},\n",
      "        {\"type\": \"insights page\": \"url\": \"https://another.full.url/insights\"},\n",
      "        {\"type\": \"request demo page\": \"url\": \"https://another.full.url/request_demo\"}\n",
      "    ]\n",
      "}\n",
      "\n"
     ]
    }
   ],
   "source": [
    "print(link_system_prompt)"
   ]
  },
  {
   "cell_type": "code",
   "execution_count": 8,
   "id": "dff8203a-0b7c-4952-abe1-d8f72d8533d1",
   "metadata": {},
   "outputs": [],
   "source": [
    "def get_links_user_prompt(website):\n",
    "    user_prompt = f\"Here is the list of links on the website of {website.url} - \"\n",
    "    user_prompt += \"please decide which of these are relevant web links for a brochure about the company, respond with the full https URL in JSON format. \\\n",
    "Do not include Terms of Service, Privacy, email links.\\n\"\n",
    "    user_prompt += \"Links (some might be relative links):\\n\"\n",
    "    user_prompt += \"\\n\".join(website.links)\n",
    "    return user_prompt"
   ]
  },
  {
   "cell_type": "code",
   "execution_count": 19,
   "id": "313a50e4-7ed2-4251-ae2e-1b5c1ef898eb",
   "metadata": {},
   "outputs": [
    {
     "name": "stdout",
     "output_type": "stream",
     "text": [
      "Here is the list of links on the website of https://nebula.io/ - please decide which of these are relevant web links for a brochure about the company, respond with the full https URL in JSON format. Do not include Terms of Service, Privacy, email links.\n",
      "Links (some might be relative links):\n",
      "/\n",
      "#features\n",
      "#benefits\n",
      "#about\n",
      "https://nebula.io/insights/\n",
      "https://app.nebula.io/\n",
      "https://calendar.app.google/uvBKvWmY3yZHdgSC8\n",
      "/\n",
      "#features\n",
      "#benefits\n",
      "#about\n",
      "https://nebula.io/insights/\n",
      "https://app.nebula.io/\n",
      "https://calendar.app.google/uvBKvWmY3yZHdgSC8\n",
      "https://calendar.app.google/uvBKvWmY3yZHdgSC8\n",
      "https://app.nebula.io/register\n",
      "https://calendar.app.google/uvBKvWmY3yZHdgSC8\n",
      "https://calendar.app.google/uvBKvWmY3yZHdgSC8\n",
      "https://calendar.app.google/uvBKvWmY3yZHdgSC8\n",
      "https://calendar.app.google/uvBKvWmY3yZHdgSC8\n",
      "https://www.linkedin.com/in/gqrgm/\n",
      "https://www.linkedin.com/in/eddonner/\n",
      "https://www.linkedin.com/in/jonkrohn/\n",
      "https://www.linkedin.com/in/saascfo/\n",
      "https://www.linkedin.com/in/mike-e-424a1819/\n",
      "https://www.linkedin.com/in/gqrgm/\n",
      "https://www.linkedin.com/in/eddonner/\n",
      "https://www.linkedin.com/in/jonkrohn/\n",
      "https://www.linkedin.com/in/saascfo/\n",
      "https://www.linkedin.com/in/mike-e-424a1819/\n",
      "https://nebula.io/\n",
      "#features\n",
      "#benefits\n",
      "#about\n",
      "https://nebula.io/insights/\n",
      "https://app.nebula.io/\n",
      "https://calendar.app.google/uvBKvWmY3yZHdgSC8\n",
      "https://nebula.io/terms/\n",
      "https://nebula.io/privacy-statement/\n",
      "https://developers.google.com/terms/api-services-user-data-policy\n",
      "https://www.linkedin.com/company/nebula-io\n"
     ]
    }
   ],
   "source": [
    "print(get_links_user_prompt(nebula))"
   ]
  },
  {
   "cell_type": "markdown",
   "id": "e476d072-3988-4b94-b5d5-dc49fea6dc2b",
   "metadata": {},
   "source": [
    "# Setting up sto build company brochure"
   ]
  },
  {
   "cell_type": "code",
   "execution_count": 20,
   "id": "ac282716-62ca-4bd1-adf5-09e3600214dc",
   "metadata": {},
   "outputs": [],
   "source": [
    "def get_links(url):\n",
    "    website = Website(url)\n",
    "    response = openai.chat.completions.create(\n",
    "        model=MODEL,\n",
    "        messages=[\n",
    "            {\"role\": \"system\", \"content\": link_system_prompt},\n",
    "            {\"role\": \"user\", \"content\": get_links_user_prompt(website)}\n",
    "      ],\n",
    "        response_format={\"type\": \"json_object\"}\n",
    "    )\n",
    "    result = response.choices[0].message.content\n",
    "    return json.loads(result)"
   ]
  },
  {
   "cell_type": "code",
   "execution_count": 21,
   "id": "9d987eba-5ee7-4f66-b808-8de611db38f8",
   "metadata": {},
   "outputs": [],
   "source": [
    "def get_all_details(url):\n",
    "    result = \"Landing page:\\n\"\n",
    "    result += Website(url).get_contents()\n",
    "    links = get_links(url)\n",
    "    print(\"Found links:\", links)\n",
    "    for link in links[\"links\"]:\n",
    "        result += f\"\\n\\n{link['type']}\\n\"\n",
    "        result += Website(link[\"url\"]).get_contents()\n",
    "    return result"
   ]
  },
  {
   "cell_type": "code",
   "execution_count": 22,
   "id": "db6a0186-b2a1-4f78-b1c4-84b8121e23c2",
   "metadata": {},
   "outputs": [],
   "source": [
    "system_prompt = \"You are an assistant that analyzes the contents of several relevant pages from a company website \\\n",
    "and creates a short brochure about the company for prospective customers, investors and recruits. Respond in markdown.\\\n",
    "Include details of company culture, customers and careers/jobs if you have the information.\""
   ]
  },
  {
   "cell_type": "code",
   "execution_count": 23,
   "id": "e73c77e7-4157-4aaa-8b96-33c76b259d69",
   "metadata": {},
   "outputs": [],
   "source": [
    "def get_brochure_user_prompt(company_name, url):\n",
    "    user_prompt = f\"You are looking at a company called: {company_name}\\n\"\n",
    "    user_prompt += f\"Here are the contents of its landing page and other relevant pages; use this information to build a short brochure of the company in markdown.\\n\"\n",
    "    user_prompt += get_all_details(url)\n",
    "    user_prompt = user_prompt[:5_000] # Truncate if more than 5,000 characters\n",
    "    return user_prompt"
   ]
  },
  {
   "cell_type": "code",
   "execution_count": 57,
   "id": "bcec80b8-cda9-4d4a-bdba-2d770994ebf8",
   "metadata": {},
   "outputs": [],
   "source": [
    "#get_brochure_user_prompt('nebula',\"https://nebula.io/\")"
   ]
  },
  {
   "cell_type": "code",
   "execution_count": 32,
   "id": "054b2b63-87ef-432d-a211-5eec9d932724",
   "metadata": {},
   "outputs": [],
   "source": [
    "def create_brochure(company_name, url):\n",
    "    response = openai.chat.completions.create(\n",
    "        model=MODEL,\n",
    "        messages=[\n",
    "            {\"role\": \"system\", \"content\": system_prompt},\n",
    "            {\"role\": \"user\", \"content\": get_brochure_user_prompt(company_name, url)}\n",
    "          ],\n",
    "    )\n",
    "    result = response.choices[0].message.content\n",
    "    display(Markdown(result))"
   ]
  },
  {
   "cell_type": "markdown",
   "id": "04dde3ce-f398-4202-86a6-25f1e2e0ac56",
   "metadata": {},
   "source": [
    "# Generating Brochure"
   ]
  },
  {
   "cell_type": "code",
   "execution_count": 33,
   "id": "d2fd277e-057f-4a22-8794-e92f663ca637",
   "metadata": {},
   "outputs": [
    {
     "name": "stdout",
     "output_type": "stream",
     "text": [
      "Found links: {'links': [{'type': 'about page', 'url': 'https://nebula.io/about'}, {'type': 'features page', 'url': 'https://nebula.io/#features'}, {'type': 'benefits page', 'url': 'https://nebula.io/#benefits'}, {'type': 'insights page', 'url': 'https://nebula.io/insights/'}, {'type': 'request demo page', 'url': 'https://app.nebula.io/register'}, {'type': 'company page', 'url': 'https://www.linkedin.com/company/nebula-io'}]}\n"
     ]
    },
    {
     "data": {
      "text/markdown": [
       "# Nebula: Intelligent Talent Acquisition Platform\n",
       "\n",
       "## Welcome to Nebula\n",
       "\n",
       "Nebula is revolutionizing the recruitment landscape with its Intelligent Talent Acquisition Platform, designed to streamline and enhance the hiring process for both employers and candidates. Whether you're a company looking to find exceptional talent or a professional seeking your next opportunity, Nebula provides the tools to connect, engage, and succeed.\n",
       "\n",
       "---\n",
       "\n",
       "## Key Features\n",
       "\n",
       "### 1. **Search a World-Class Talent Pool**\n",
       "Discover remarkable and often-overlooked talent validated by top educators and employers. Nebula ensures you have access to the best candidates available.\n",
       "\n",
       "### 2. **Instant Matching**\n",
       "Utilize our powerful matching engine to analyze job descriptions and candidate profiles. With cutting-edge algorithms and Deep Learning Neural Networks, Nebula quickly identifies candidates best suited for your roles.\n",
       "\n",
       "### 3. **Engagement Made Easy**\n",
       "Shortlist and engage with candidates effortlessly. Organize talent profiles, signal interest, and collaborate with your team to make impactful decisions—all with just a few clicks.\n",
       "\n",
       "### 4. **Actionable Insights**\n",
       "Gain insights into compensation data, employee engagement metrics, and talent trends. Our platform helps you optimize hiring quality and speed while addressing bottlenecks in your hiring process.\n",
       "\n",
       "---\n",
       "\n",
       "## Benefits of Nebula\n",
       "\n",
       "### Better Talent, Less Time\n",
       "Nebula enables organizations to find 12 times as many strong candidates compared to traditional keyword-based searches. This efficiency translates into more time spent on building meaningful connections rather than sifting through resumes.\n",
       "\n",
       "### Commitment to Diversity, Equity, and Inclusion\n",
       "With our ByeBias® feature, Nebula actively promotes fair and equitable hiring practices. By anonymizing sensitive information and eliminating bias, we help create a more diverse workforce.\n",
       "\n",
       "---\n",
       "\n",
       "## Company Culture\n",
       "\n",
       "At Nebula, we foster a culture of innovation and inclusivity. Our team, comprised of experts in technology and recruitment, is dedicated to developing solutions that prioritize human connections and ethical practices in hiring. We believe in the power of diverse perspectives and aim to reflect that in our work environment.\n",
       "\n",
       "---\n",
       "\n",
       "## Leadership Team\n",
       "\n",
       "- **Steven Talbot** - Co-Founder and CEO\n",
       "- **Ed Donner** - Co-Founder and CTO\n",
       "- **Jon Krohn** - Co-Founder and Chief Data Scientist\n",
       "- **Alex Gardner** - CFO\n",
       "- **Mike Evers** - Strategy & GTM\n",
       "\n",
       "With a leadership team comprised of visionaries and innovators, Nebula is positioned to redefine the recruitment landscape.\n",
       "\n",
       "---\n",
       "\n",
       "## Careers at Nebula\n",
       "\n",
       "Join our mission to revolutionize talent acquisition! We are always looking for passionate individuals who share our values of innovation, diversity, and excellence. Explore career opportunities with us and be part of a team that is making a difference in the recruitment industry.\n",
       "\n",
       "---\n",
       "\n",
       "## Request a Demo\n",
       "\n",
       "Experience the power of Nebula firsthand! [Request a demo](#) or [try it for free](#) to see how we can transform your hiring process.\n",
       "\n",
       "Explore more about what we offer and how we can support your talent acquisition needs at [Nebula.io](https://nebula.io).\n",
       "\n",
       "---\n",
       "\n",
       "### Connect With Us\n",
       "\n",
       "For more insights and updates, follow us on our social media channels or contact us for further information. \n",
       "\n",
       "**© 2023 Nebula.io, LLC. All Rights Reserved.**  \n",
       "**Terms of Service | Privacy Policy**  \n",
       "**Nebula.io’s use of information adheres to Google API Services User Data Policy.**"
      ],
      "text/plain": [
       "<IPython.core.display.Markdown object>"
      ]
     },
     "metadata": {},
     "output_type": "display_data"
    }
   ],
   "source": [
    "create_brochure(\"nebula\", \"https://nebula.io/\")"
   ]
  },
  {
   "cell_type": "markdown",
   "id": "0bb09523-d340-4021-8069-68cae8fc3fb6",
   "metadata": {},
   "source": [
    "# Streaming Brochure"
   ]
  },
  {
   "cell_type": "code",
   "execution_count": 34,
   "id": "7b73f22b-d5f1-4d82-b273-3b4db4815b0a",
   "metadata": {},
   "outputs": [],
   "source": [
    "def stream_brochure(company_name, url):\n",
    "    stream = openai.chat.completions.create(\n",
    "        model=MODEL,\n",
    "        messages=[\n",
    "            {\"role\": \"system\", \"content\": system_prompt},\n",
    "            {\"role\": \"user\", \"content\": get_brochure_user_prompt(company_name, url)}\n",
    "          ],\n",
    "        stream=True\n",
    "    )\n",
    "    \n",
    "    response = \"\"\n",
    "    display_handle = display(Markdown(\"\"), display_id=True)\n",
    "    for chunk in stream:\n",
    "        response += chunk.choices[0].delta.content or ''\n",
    "        response = response.replace(\"```\",\"\").replace(\"markdown\", \"\")\n",
    "        update_display(Markdown(response), display_id=display_handle.display_id)"
   ]
  },
  {
   "cell_type": "code",
   "execution_count": 35,
   "id": "a2a3ac96-8727-4269-a9fd-0ba066b9f63a",
   "metadata": {},
   "outputs": [
    {
     "name": "stdout",
     "output_type": "stream",
     "text": [
      "Found links: {'links': [{'type': 'about page', 'url': 'https://nebula.io/#about'}, {'type': 'features page', 'url': 'https://nebula.io/#features'}, {'type': 'benefits page', 'url': 'https://nebula.io/#benefits'}, {'type': 'insights page', 'url': 'https://nebula.io/insights/'}, {'type': 'request demo page', 'url': 'https://app.nebula.io/register'}, {'type': 'company page', 'url': 'https://www.linkedin.com/company/nebula-io'}]}\n"
     ]
    },
    {
     "data": {
      "text/markdown": [
       "# Nebula Brochure\n",
       "\n",
       "## Introducing Nebula\n",
       "Welcome to **Nebula**, the Intelligent Talent Acquisition Platform that reimagines the way recruitment is conducted. Our platform empowers organizations to efficiently discover and engage the world's best talent, transforming traditional hiring practices into a streamlined, data-driven process.\n",
       "\n",
       "---\n",
       "\n",
       "## **Features**\n",
       "### Unleash the Power of Talent Acquisition\n",
       "1. **Search**  \n",
       "   Explore a vast pool of talent validated by top sources, educators, and employers. Uncover the exceptional candidates often overlooked by traditional job boards.\n",
       "   \n",
       "2. **Instant Matching**  \n",
       "   Enter a job description or resume, and let our algorithm process millions of profiles in seconds. Our unique deep learning neural networks ensure you find the best candidates swiftly.\n",
       "\n",
       "3. **Engagement**  \n",
       "   Shortlist candidates with ease and organize profiles for current or future roles. Collaborate with your hiring team seamlessly to enhance decision-making.\n",
       "\n",
       "4. **Actionable Insights**  \n",
       "   Gain real-time insights into compensation data, employee engagement, and industry talent trends. Optimize hiring quality and efficiency to eliminate bottlenecks.\n",
       "\n",
       "---\n",
       "\n",
       "## **Our Mission**\n",
       "At Nebula, we believe in improving recruitment processes while being human-centric. We provide the right tools to help organizations connect with candidates more effectively, fostering rich human interactions in hiring.\n",
       "\n",
       "---\n",
       "\n",
       "## **Benefits**\n",
       "### Better Talent, Less Time\n",
       "An independent assessment from a Fortune 500 client revealed that Nebula’s innovative approach identifies 12x more strong candidates faster and enhances the time spent engaging with candidates, allowing for more genuine connections.\n",
       "\n",
       "### **Diversity, Equity & Inclusion**\n",
       "Fair hiring practices are at our core. Our **ByeBias®** feature ensures that bias, both conscious and unconscious, is mitigated throughout the recruitment process. We enable you to champion diversity in your hiring initiatives.\n",
       "\n",
       "---\n",
       "\n",
       "## **Company Culture**\n",
       "At Nebula, we thrive on innovation, collaboration, and inclusivity. Our team consists of forward-thinkers dedicated to building a platform that empowers organizations and candidates alike. We promote a strong culture of transparency and support, working tirelessly to foster an environment where every voice is heard.\n",
       "\n",
       "## **Leadership Team**\n",
       "- **Steven Talbot** - Co-Founder and CEO\n",
       "- **Ed Donner** - Co-Founder and CTO\n",
       "- **Jon Krohn** - Co-Founder and Chief Data Scientist\n",
       "- **Alex Gardner** - CFO\n",
       "- **Mike Evers** - Strategy & GTM\n",
       "\n",
       "---\n",
       "\n",
       "## **Careers at Nebula**\n",
       "Join our dynamic team at Nebula! We are always looking for passionate individuals who are committed to transforming the recruitment landscape. Explore exciting career opportunities where you can make a real impact and grow professionally. Find out more on our **Careers** page.\n",
       "\n",
       "---\n",
       "\n",
       "## **Get Started Today**\n",
       "Ready to revolutionize your recruitment process?  \n",
       "- Schedule a demo or try us for free at [Nebula.io](https://www.nebula.io)  \n",
       "- Contact our sales team for more information.\n",
       "\n",
       "--- \n",
       "\n",
       "> **Contact Us**: Reach us at [support@nebula.io](mailto:support@nebula.io)  \n",
       "> **Follow us**: Stay updated on LinkedIn and other social platforms."
      ],
      "text/plain": [
       "<IPython.core.display.Markdown object>"
      ]
     },
     "metadata": {},
     "output_type": "display_data"
    }
   ],
   "source": [
    "stream_brochure(\"nebula\", \"https://nebula.io/\")"
   ]
  },
  {
   "cell_type": "markdown",
   "id": "ff0ab0d4-a271-4054-9bf4-cb8865055d6c",
   "metadata": {},
   "source": [
    "# Setting up for Language Translation"
   ]
  },
  {
   "cell_type": "code",
   "execution_count": 54,
   "id": "031f2f6d-867b-4185-ad62-c6e966fb4e0c",
   "metadata": {},
   "outputs": [],
   "source": [
    "from IPython.display import clear_output, display, Markdown\n",
    "\n",
    "def stream_brochure(company_name, url):\n",
    "    stream = openai.chat.completions.create(\n",
    "        model=MODEL,\n",
    "        messages=[\n",
    "            {\"role\": \"system\", \"content\": system_prompt},\n",
    "            {\"role\": \"user\", \"content\": get_brochure_user_prompt(company_name, url)}\n",
    "          ],\n",
    "        stream=True\n",
    "    )\n",
    "    \n",
    "    response = \"\"\n",
    "    for chunk in stream:\n",
    "        response += chunk.choices[0].delta.content or ''\n",
    "        response = response.replace(\"```\",\"\").replace(\"markdown\", \"\")\n",
    "    \n",
    "    return response  # Return response without displaying it\n",
    "\n",
    "def translate_text(text, target_language):\n",
    "    translation = openai.chat.completions.create(\n",
    "        model=MODEL,\n",
    "        messages=[\n",
    "            {\"role\": \"system\", \"content\": \"Translate the following text into \" + target_language},\n",
    "            {\"role\": \"user\", \"content\": text}\n",
    "        ]\n",
    "    )\n",
    "    return translation.choices[0].message.content\n",
    "\n",
    "def user_translate_brochure(company_name, url, lang):\n",
    "    clear_output(wait=True)\n",
    "    brochure_text = stream_brochure(company_name, url)  # Fetch text without displaying\n",
    "    translated_text = translate_text(brochure_text, lang)  # Translate it\n",
    "    display(Markdown(translated_text))  # Display only the translated text\n"
   ]
  },
  {
   "cell_type": "markdown",
   "id": "c9cb37ae-f9a8-408c-9883-cdf320391c77",
   "metadata": {},
   "source": [
    "# Example of French Translation"
   ]
  },
  {
   "cell_type": "code",
   "execution_count": 55,
   "id": "73071ab8-8bd4-480b-865c-e75af06b7b55",
   "metadata": {},
   "outputs": [
    {
     "name": "stdout",
     "output_type": "stream",
     "text": [
      "Found links: {'links': [{'type': 'about page', 'url': 'https://nebula.io/about'}, {'type': 'features page', 'url': 'https://nebula.io#features'}, {'type': 'benefits page', 'url': 'https://nebula.io#benefits'}, {'type': 'insights page', 'url': 'https://nebula.io/insights/'}, {'type': 'request demo page', 'url': 'https://app.nebula.io/register'}, {'type': 'company page', 'url': 'https://www.linkedin.com/company/nebula-io'}]}\n"
     ]
    },
    {
     "data": {
      "text/markdown": [
       "# Brochure de l'entreprise Nebula\n",
       "\n",
       "## Bienvenue chez Nebula\n",
       "**Réinventer l'acquisition de talents avec intelligence**\n",
       "\n",
       "Chez Nebula, nous croyons que trouver et acquérir les meilleurs talents ne devrait pas seulement être plus efficace, mais aussi plus humain. Notre plateforme d'acquisition de talents intelligente utilise une technologie AI avancée pour débloquer l'accès aux professionnels les plus talentueux du monde, offrant des expériences de recrutement plus intelligentes et rationalisées.\n",
       "\n",
       "---\n",
       "\n",
       "## Caractéristiques de notre plateforme\n",
       "\n",
       "1. **Réservoir de talents de classe mondiale**  \n",
       "   Découvrez des talents exceptionnels et cachés qui passent souvent inaperçus sur les sites d'emploi traditionnels.\n",
       "   \n",
       "2. **Correspondance instantanée**  \n",
       "   Utilisez nos puissants algorithmes pour évaluer, trier et classer les profils en fonction de vos besoins en recrutement, trouvant les meilleures correspondances en quelques secondes.\n",
       "\n",
       "3. **Engagement facile**  \n",
       "   Organisez les profils des candidats sans effort et signalez votre intérêt d'un simple clic. Collaborez sans friction avec votre équipe pour prendre des décisions d'embauche impactantes.\n",
       "\n",
       "4. **Insights exploitables**  \n",
       "   Obtenez des informations précieuses sur les tendances en matière de talents, les données de rémunération et l'engagement des employés pour renforcer votre planification des ressources humaines et vos stratégies de fidélisation.\n",
       "\n",
       "---\n",
       "\n",
       "## Avantages de choisir Nebula\n",
       "\n",
       "- **Meilleurs talents, plus rapidement** : Des évaluations indépendantes montrent que Nebula identifie jusqu'à 12 fois plus de candidats forts en beaucoup moins de temps, améliorant la qualité des recrues.\n",
       "- **Mise l'accent sur l'humanité** : Avec moins de temps passé sur des recherches laborieuses, les équipes peuvent privilégier les interactions significatives, favorisant les connexions humaines.\n",
       "- **Diversité, équité et inclusion** : Grâce à nos fonctionnalités ByeBias®, nous promouvons un recrutement équitable en éliminant les biais du processus de recrutement, soutenant une main-d'œuvre inclusive.\n",
       "\n",
       "---\n",
       "\n",
       "## Notre équipe de direction\n",
       "\n",
       "**Steven Talbot** – Co-fondateur et PDG  \n",
       "**Ed Donner** – Co-fondateur et CTO  \n",
       "**Jon Krohn** – Co-fondateur et Chief Data Scientist  \n",
       "**Alex Gardner** – CFO  \n",
       "**Mike Evers** – Stratégie & GTM  \n",
       "\n",
       "---\n",
       "\n",
       "## Culture d'entreprise\n",
       "\n",
       "Chez Nebula, nous favorisons un environnement de collaboration et d'innovation où les idées de chaque membre de l'équipe sont valorisées. Nous nous engageons en faveur de l'inclusivité, en défendant la diversité à tous les niveaux de nos opérations. Notre culture met l'accent sur l'apprentissage continu, la croissance professionnelle et un engagement à atteindre des objectifs communs.\n",
       "\n",
       "---\n",
       "\n",
       "## Rejoignez notre équipe !\n",
       "\n",
       "Nous sommes toujours à la recherche de personnes talentueuses passionnées par la transformation du paysage du recrutement. Si vous souhaitez faire partie d'une équipe dédiée à l'innovation, à la connexion humaine et à l'utilisation de la technologie pour le bien social, envisagez une carrière chez Nebula.\n",
       "\n",
       "**Explorez les opportunités de carrière :** [Rejoignez-nous](#)\n",
       "\n",
       "---\n",
       "\n",
       "## Clients\n",
       "Nebula sert une gamme diversifiée de clients, y compris des entreprises du Fortune 500, des petites entreprises et des établissements d'enseignement cherchant à optimiser leurs processus de recrutement. \n",
       "\n",
       "---\n",
       "\n",
       "## Connectez-vous avec nous\n",
       "\n",
       "Êtes-vous prêt à transformer votre processus de recrutement ?  \n",
       "**[Planifiez une démo](#)** | **[Essayez-le gratuitement](#)**\n",
       "\n",
       "*Clause de non-responsabilité : Tous droits réservés. Les conditions de service et la politique de confidentialité s'appliquent.*\n",
       "\n",
       "--- \n",
       "\n",
       "Adoptez l'avenir du recrutement avec Nebula, où des solutions intelligentes rencontrent un recrutement centré sur l'humain."
      ],
      "text/plain": [
       "<IPython.core.display.Markdown object>"
      ]
     },
     "metadata": {},
     "output_type": "display_data"
    }
   ],
   "source": [
    "company_name = \"nebula\"\n",
    "url = \"https://nebula.io/\"\n",
    "\n",
    "def user_translate_brochure(company_name, url, lang):\n",
    "    # Clear previous output\n",
    "    clear_output(wait=True)\n",
    "    \n",
    "    # Get original brochure text\n",
    "    brochure_text = stream_brochure(company_name, url)\n",
    "\n",
    "    # Stream translation\n",
    "    translation_stream = openai.chat.completions.create(\n",
    "        model=MODEL,\n",
    "        messages=[\n",
    "            {\"role\": \"system\", \"content\": f\"You are a translator. Convert the following text into {lang} without asking for further input.\"},\n",
    "            {\"role\": \"user\", \"content\": brochure_text}\n",
    "        ],\n",
    "        stream=True\n",
    "    )\n",
    "    \n",
    "    # Setup display for streaming translation\n",
    "    display_handle = display(Markdown(\"\"), display_id=True)\n",
    "    translated_text = \"\"\n",
    "    \n",
    "    for chunk in translation_stream:\n",
    "        content = chunk.choices[0].delta.content or \"\"\n",
    "        if content:\n",
    "            translated_text += content\n",
    "            update_display(Markdown(translated_text), display_id=display_handle.display_id)\n",
    "\n",
    "# Stream the brochure in English\n",
    "original_text = stream_brochure(company_name, url)\n",
    "\n",
    "# Prompt user for language choice\n",
    "language_choice = input(\" Enter language to translate brochure (e.g., 'Greek'): \")\n",
    "\n",
    "# Translate the brochure and stream the translation\n",
    "if language_choice:\n",
    "    user_translate_brochure(company_name, url, language_choice)\n"
   ]
  },
  {
   "cell_type": "markdown",
   "id": "ea8af88c-8581-48d1-be4d-ef3b3a9fa048",
   "metadata": {},
   "source": [
    "# Example of Spanish  Translation"
   ]
  },
  {
   "cell_type": "code",
   "execution_count": 56,
   "id": "550328bd-3957-46bb-99d4-d33a9631bf5a",
   "metadata": {},
   "outputs": [
    {
     "name": "stdout",
     "output_type": "stream",
     "text": [
      "Found links: {'links': [{'type': 'about page', 'url': 'https://nebula.io/#about'}, {'type': 'features page', 'url': 'https://nebula.io/#features'}, {'type': 'benefits page', 'url': 'https://nebula.io/#benefits'}, {'type': 'insights page', 'url': 'https://nebula.io/insights/'}, {'type': 'request demo page', 'url': 'https://app.nebula.io/register'}, {'type': 'company page', 'url': 'https://nebula.io/'}]}\n"
     ]
    },
    {
     "data": {
      "text/markdown": [
       "# Nebula: Reimaginando el Reclutamiento con Adquisición de Talentos Inteligente\n",
       "\n",
       "## Acerca de nosotros\n",
       "Nebula es una Plataforma de Adquisición de Talentos Inteligente que revoluciona los procesos de reclutamiento. Nuestra misión es desbloquear el mejor talento del mundo mediante la utilización de tecnología innovadora, asegurando que la búsqueda de talento se vuelva más eficiente, efectiva y equitativa. Nuestra plataforma está diseñada para organizaciones de todos los tamaños que buscan mejorar sus estrategias de contratación y descubrir candidatos excepcionales.\n",
       "\n",
       "## Características\n",
       "### 1. Búsqueda\n",
       "Accede a una base de datos de talentos de clase mundial, validada por fuentes líderes, educadores y empleadores. Encuentra talento excepcional que a menudo es pasado por alto por las bolsas de trabajo tradicionales.\n",
       "\n",
       "### 2. Coincidencia Instantánea\n",
       "Utiliza algoritmos avanzados que procesan Lenguaje Natural con Redes Neuronales de Aprendizaje Profundo. Nuestro motor de coincidencia clasifica, ordena y prioriza perfiles rápidamente según las descripciones de trabajo proporcionadas o arquetipos de candidatos, analizando cientos de millones de perfiles en cuestión de segundos.\n",
       "\n",
       "### 3. Compromiso\n",
       "Organiza y comprométete con el talento interesado sin esfuerzo. Agrega perfiles rápidamente, programa reuniones y colabora sin problemas con miembros del equipo y gerentes de contratación.\n",
       "\n",
       "### 4. Perspectivas Accionables\n",
       "Obtén valiosas perspectivas sobre la planificación, adquisición y retención de talento. Nuestra plataforma proporciona datos de compensación en tiempo real, métricas de compromiso de empleados e información sobre las tendencias actuales de talento para mejorar tu eficiencia de contratación.\n",
       "\n",
       "## Beneficios\n",
       "### Más Candidatos, Menos Tiempo\n",
       "El enfoque innovador de Nebula permite la identificación de **12x más candidatos fuertes** en comparación con las búsquedas tradicionales basadas en palabras clave, reduciendo significativamente el tiempo dedicado a la búsqueda y aumentando el tiempo dedicado a construir conexiones humanas significativas.\n",
       "\n",
       "### Diversidad, Equidad e Inclusión\n",
       "Con nuestra función **ByeBias®**, Nebula anonimiza y agrega información sensible para mitigar los sesgos conscientes e inconscientes durante el reclutamiento. Esto asegura prácticas de empleo justas, promoviendo la diversidad y la inclusión en el proceso de contratación.\n",
       "\n",
       "## Equipo de Liderazgo\n",
       "- **Steven Talbot**: Co-Fundador y CEO\n",
       "- **Ed Donner**: Co-Fundador y CTO\n",
       "- **Jon Krohn**: Co-Fundador y Científico de Datos Principal\n",
       "- **Alex Gardner**: CFO\n",
       "- **Mike Evers**: Estrategia y GTM\n",
       "\n",
       "## Cultura Empresarial\n",
       "En Nebula, creemos en fomentar una cultura de innovación, colaboración e inclusión. Nuestro equipo se dedica a crear un entorno de trabajo diverso y de apoyo donde cada empleado esté empoderado para contribuir a su máximo potencial. Valoramos el aprendizaje continuo y la adaptabilidad, nutriendo el talento no solo para tener éxito, sino para prosperar.\n",
       "\n",
       "## Carreras en Nebula\n",
       "¡Únete a nosotros en la redefinición del futuro del reclutamiento! Estamos continuamente buscando personas apasionadas para ayudarnos a desarrollar aún más nuestra plataforma. Si estás interesado en trabajar con tecnología de IA de vanguardia y hacer un impacto duradero en el mundo de la tecnología de recursos humanos, explora nuestros puestos disponibles y aplica hoy.\n",
       "\n",
       "## Conéctate con nosotros\n",
       "Descubre el futuro del reclutamiento con Nebula. **[Solicita una Demo](#)** o **[Pruébalo Gratis](#)** hoy mismo!\n",
       "\n",
       "---\n",
       "\n",
       "© 2023 Nebula.io, LLC. Todos los derechos reservados."
      ],
      "text/plain": [
       "<IPython.core.display.Markdown object>"
      ]
     },
     "metadata": {},
     "output_type": "display_data"
    }
   ],
   "source": [
    "\n",
    "original_text = stream_brochure(company_name, url)\n",
    "\n",
    "# Prompt user for language choice\n",
    "language_choice = input(\" Enter language to translate brochure (e.g., 'Greek'): \")\n",
    "\n",
    "# Translate the brochure and stream the translation\n",
    "if language_choice:\n",
    "    user_translate_brochure(company_name, url, language_choice)\n"
   ]
  },
  {
   "cell_type": "code",
   "execution_count": null,
   "id": "3e7b69f2-ccca-4685-a125-efc2e968e1d7",
   "metadata": {},
   "outputs": [],
   "source": []
  },
  {
   "cell_type": "code",
   "execution_count": null,
   "id": "65487f1f-196d-4051-87c7-9b9f36074505",
   "metadata": {},
   "outputs": [],
   "source": []
  }
 ],
 "metadata": {
  "kernelspec": {
   "display_name": "Python 3 (ipykernel)",
   "language": "python",
   "name": "python3"
  },
  "language_info": {
   "codemirror_mode": {
    "name": "ipython",
    "version": 3
   },
   "file_extension": ".py",
   "mimetype": "text/x-python",
   "name": "python",
   "nbconvert_exporter": "python",
   "pygments_lexer": "ipython3",
   "version": "3.11.11"
  }
 },
 "nbformat": 4,
 "nbformat_minor": 5
}
